{
  "nbformat": 4,
  "nbformat_minor": 0,
  "metadata": {
    "colab": {
      "name": "Chuong6.ipynb",
      "provenance": [],
      "authorship_tag": "ABX9TyPk5ZHtT2QshsqhUrfj8IWC",
      "include_colab_link": true
    },
    "kernelspec": {
      "name": "python3",
      "display_name": "Python 3"
    },
    "language_info": {
      "name": "python"
    }
  },
  "cells": [
    {
      "cell_type": "markdown",
      "metadata": {
        "id": "view-in-github",
        "colab_type": "text"
      },
      "source": [
        "<a href=\"https://colab.research.google.com/github/minhquang1206/THToanCaoCap/blob/main/Chuong6.ipynb\" target=\"_parent\"><img src=\"https://colab.research.google.com/assets/colab-badge.svg\" alt=\"Open In Colab\"/></a>"
      ]
    },
    {
      "cell_type": "markdown",
      "source": [
        "bai 1"
      ],
      "metadata": {
        "id": "3jiSKFu2M6br"
      }
    },
    {
      "cell_type": "code",
      "execution_count": 1,
      "metadata": {
        "colab": {
          "base_uri": "https://localhost:8080/"
        },
        "id": "iRtAL5MVM3xp",
        "outputId": "4ecb20fd-bbab-459a-db0d-d94951de35b1"
      },
      "outputs": [
        {
          "output_type": "execute_result",
          "data": {
            "text/plain": [
              "6"
            ]
          },
          "metadata": {},
          "execution_count": 1
        }
      ],
      "source": [
        "import math\n",
        "def giaithua(n):\n",
        "  if (n==0):\n",
        "    return 1\n",
        "  else:\n",
        "    return n*giaithua(n-1) \n",
        "giaithua(3)"
      ]
    },
    {
      "cell_type": "code",
      "source": [
        "giaithua(4)"
      ],
      "metadata": {
        "colab": {
          "base_uri": "https://localhost:8080/"
        },
        "id": "ffQ6UXX5M9Nk",
        "outputId": "3006839c-f4e1-44f7-d8ea-91cf454ecd5d"
      },
      "execution_count": 2,
      "outputs": [
        {
          "output_type": "execute_result",
          "data": {
            "text/plain": [
              "24"
            ]
          },
          "metadata": {},
          "execution_count": 2
        }
      ]
    },
    {
      "cell_type": "markdown",
      "source": [
        "bai 2"
      ],
      "metadata": {
        "id": "vGWuXycTM_rQ"
      }
    },
    {
      "cell_type": "code",
      "source": [
        "def fibo(n):\n",
        " if n == 0:\n",
        "    return 0\n",
        " if n == 1:\n",
        "    return 1\n",
        " return fibo(n-1) + fibo(n-2)"
      ],
      "metadata": {
        "id": "oBqm0wy6NATJ"
      },
      "execution_count": 3,
      "outputs": []
    },
    {
      "cell_type": "code",
      "source": [
        "fibo(4)"
      ],
      "metadata": {
        "colab": {
          "base_uri": "https://localhost:8080/"
        },
        "id": "VUVk_oQvNBsO",
        "outputId": "ab2f2d73-df81-46e4-81dc-04a9ab99ff58"
      },
      "execution_count": 4,
      "outputs": [
        {
          "output_type": "execute_result",
          "data": {
            "text/plain": [
              "3"
            ]
          },
          "metadata": {},
          "execution_count": 4
        }
      ]
    },
    {
      "cell_type": "code",
      "source": [
        "fibo(5)"
      ],
      "metadata": {
        "colab": {
          "base_uri": "https://localhost:8080/"
        },
        "id": "rNy6hB2iNC3C",
        "outputId": "42167d8c-a499-48b6-cd4f-59f49b087e5c"
      },
      "execution_count": 5,
      "outputs": [
        {
          "output_type": "execute_result",
          "data": {
            "text/plain": [
              "5"
            ]
          },
          "metadata": {},
          "execution_count": 5
        }
      ]
    },
    {
      "cell_type": "code",
      "source": [
        "fibo(6)"
      ],
      "metadata": {
        "colab": {
          "base_uri": "https://localhost:8080/"
        },
        "id": "rehe8AOTNEGP",
        "outputId": "e14b9ccf-e3bc-49d2-9e3a-2eb7d0545efb"
      },
      "execution_count": 6,
      "outputs": [
        {
          "output_type": "execute_result",
          "data": {
            "text/plain": [
              "8"
            ]
          },
          "metadata": {},
          "execution_count": 6
        }
      ]
    },
    {
      "cell_type": "markdown",
      "source": [
        "bai 6"
      ],
      "metadata": {
        "id": "vV3FbLnTNPYH"
      }
    },
    {
      "cell_type": "code",
      "source": [
        "def an_exp_an(n):\n",
        "  if n == 1:\n",
        "    return 1.0/2\n",
        "  else:\n",
        "    return an_exp_an(n-1)**an_exp_an(n-1)"
      ],
      "metadata": {
        "id": "4qWhwlnuNQM0"
      },
      "execution_count": 7,
      "outputs": []
    },
    {
      "cell_type": "code",
      "source": [
        "an_exp_an(1)"
      ],
      "metadata": {
        "colab": {
          "base_uri": "https://localhost:8080/"
        },
        "id": "1r40wM4MNR3v",
        "outputId": "384ccdcb-662c-466a-bf15-5a14d6c14f3e"
      },
      "execution_count": 8,
      "outputs": [
        {
          "output_type": "execute_result",
          "data": {
            "text/plain": [
              "0.5"
            ]
          },
          "metadata": {},
          "execution_count": 8
        }
      ]
    },
    {
      "cell_type": "code",
      "source": [
        "an_exp_an(2)"
      ],
      "metadata": {
        "colab": {
          "base_uri": "https://localhost:8080/"
        },
        "id": "HZmubqpUNS6h",
        "outputId": "721f6337-b55e-47cb-9c87-035b3c8c54e3"
      },
      "execution_count": 9,
      "outputs": [
        {
          "output_type": "execute_result",
          "data": {
            "text/plain": [
              "0.7071067811865476"
            ]
          },
          "metadata": {},
          "execution_count": 9
        }
      ]
    },
    {
      "cell_type": "code",
      "source": [
        "an_exp_an(3)"
      ],
      "metadata": {
        "colab": {
          "base_uri": "https://localhost:8080/"
        },
        "id": "LLJefyXLNUt5",
        "outputId": "0fbdd707-660c-407e-ea06-4016911862f0"
      },
      "execution_count": 10,
      "outputs": [
        {
          "output_type": "execute_result",
          "data": {
            "text/plain": [
              "0.7826540273556803"
            ]
          },
          "metadata": {},
          "execution_count": 10
        }
      ]
    },
    {
      "cell_type": "code",
      "source": [
        "an_exp_an(4)"
      ],
      "metadata": {
        "colab": {
          "base_uri": "https://localhost:8080/"
        },
        "id": "tE5-860tNWqh",
        "outputId": "e4fcd0e8-766b-4476-91dc-c5a19d759cc9"
      },
      "execution_count": 11,
      "outputs": [
        {
          "output_type": "execute_result",
          "data": {
            "text/plain": [
              "0.8254713306050621"
            ]
          },
          "metadata": {},
          "execution_count": 11
        }
      ]
    },
    {
      "cell_type": "code",
      "source": [
        "an_exp_an(5)"
      ],
      "metadata": {
        "colab": {
          "base_uri": "https://localhost:8080/"
        },
        "id": "31weBdjMNX2j",
        "outputId": "facbf714-dcc4-4f97-847e-d3c159955027"
      },
      "execution_count": 15,
      "outputs": [
        {
          "output_type": "execute_result",
          "data": {
            "text/plain": [
              "0.8535714578150946"
            ]
          },
          "metadata": {},
          "execution_count": 15
        }
      ]
    },
    {
      "cell_type": "code",
      "source": [
        "an_exp_an(10)"
      ],
      "metadata": {
        "colab": {
          "base_uri": "https://localhost:8080/"
        },
        "id": "SVm4Z5QONZHL",
        "outputId": "cb1ff8bc-b1a0-47e1-8a0a-76e29bd6fa70"
      },
      "execution_count": 14,
      "outputs": [
        {
          "output_type": "execute_result",
          "data": {
            "text/plain": [
              "0.9176411981636667"
            ]
          },
          "metadata": {},
          "execution_count": 14
        }
      ]
    },
    {
      "cell_type": "markdown",
      "source": [
        "bai 4"
      ],
      "metadata": {
        "id": "ENzPbt45Neiv"
      }
    },
    {
      "cell_type": "code",
      "source": [
        "def bai4(n):\n",
        " if n==1:\n",
        "  return 4\n",
        " else:\n",
        "  return 5.0/(6-bai4(n-1))"
      ],
      "metadata": {
        "id": "zY06GSQhNfTw"
      },
      "execution_count": 16,
      "outputs": []
    },
    {
      "cell_type": "code",
      "source": [
        "bai4(5)"
      ],
      "metadata": {
        "colab": {
          "base_uri": "https://localhost:8080/"
        },
        "id": "6UKy_33VNgr-",
        "outputId": "3cd71617-63c9-4bf0-e259-c7444d01f1fc"
      },
      "execution_count": 17,
      "outputs": [
        {
          "output_type": "execute_result",
          "data": {
            "text/plain": [
              "1.019108280254777"
            ]
          },
          "metadata": {},
          "execution_count": 17
        }
      ]
    },
    {
      "cell_type": "code",
      "source": [
        "bai4(6)"
      ],
      "metadata": {
        "colab": {
          "base_uri": "https://localhost:8080/"
        },
        "id": "GG0iTdWcNh_n",
        "outputId": "2637fe6e-b89e-4d55-ceae-bebb90683fd2"
      },
      "execution_count": 18,
      "outputs": [
        {
          "output_type": "execute_result",
          "data": {
            "text/plain": [
              "1.0038363171355498"
            ]
          },
          "metadata": {},
          "execution_count": 18
        }
      ]
    },
    {
      "cell_type": "code",
      "source": [
        "bai4(7)"
      ],
      "metadata": {
        "colab": {
          "base_uri": "https://localhost:8080/"
        },
        "id": "0tu4Ba6RNjXP",
        "outputId": "10f6fdbb-f116-45cf-a377-0cefc3598ee8"
      },
      "execution_count": 19,
      "outputs": [
        {
          "output_type": "execute_result",
          "data": {
            "text/plain": [
              "1.000767852572306"
            ]
          },
          "metadata": {},
          "execution_count": 19
        }
      ]
    },
    {
      "cell_type": "code",
      "source": [
        "bai4(10)"
      ],
      "metadata": {
        "colab": {
          "base_uri": "https://localhost:8080/"
        },
        "id": "ddWJCDbeNlQ2",
        "outputId": "3bcf6f1c-ddfe-49a4-a536-ed00fab704da"
      },
      "execution_count": 20,
      "outputs": [
        {
          "output_type": "execute_result",
          "data": {
            "text/plain": [
              "1.0000061439905628"
            ]
          },
          "metadata": {},
          "execution_count": 20
        }
      ]
    },
    {
      "cell_type": "code",
      "source": [
        "bai4(100)"
      ],
      "metadata": {
        "colab": {
          "base_uri": "https://localhost:8080/"
        },
        "id": "EREQ-GBVNmaT",
        "outputId": "87c17010-2d77-4545-8ad5-6a3dbc71e595"
      },
      "execution_count": 21,
      "outputs": [
        {
          "output_type": "execute_result",
          "data": {
            "text/plain": [
              "1.0"
            ]
          },
          "metadata": {},
          "execution_count": 21
        }
      ]
    },
    {
      "cell_type": "markdown",
      "source": [
        "bai 5"
      ],
      "metadata": {
        "id": "H4O6MZ56Noe1"
      }
    },
    {
      "cell_type": "code",
      "source": [
        "def tisoFibo(n):\n",
        " if n==1:\n",
        "  return 1\n",
        " else:\n",
        "  return 1.0 + 1.0/tisoFibo(n-1)"
      ],
      "metadata": {
        "id": "-zmHhfPxNpNg"
      },
      "execution_count": 22,
      "outputs": []
    },
    {
      "cell_type": "code",
      "source": [
        "for i in range(1, 11):\n",
        "    print (i, tisoFibo(i))"
      ],
      "metadata": {
        "colab": {
          "base_uri": "https://localhost:8080/"
        },
        "id": "N87RsI-_NqKZ",
        "outputId": "c888f10c-9594-4713-ee26-e496ee102c8d"
      },
      "execution_count": 23,
      "outputs": [
        {
          "output_type": "stream",
          "name": "stdout",
          "text": [
            "1 1\n",
            "2 2.0\n",
            "3 1.5\n",
            "4 1.6666666666666665\n",
            "5 1.6\n",
            "6 1.625\n",
            "7 1.6153846153846154\n",
            "8 1.619047619047619\n",
            "9 1.6176470588235294\n",
            "10 1.6181818181818182\n"
          ]
        }
      ]
    }
  ]
}
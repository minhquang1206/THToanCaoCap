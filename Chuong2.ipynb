{
  "nbformat": 4,
  "nbformat_minor": 0,
  "metadata": {
    "colab": {
      "name": "Chuong2.ipynb",
      "provenance": [],
      "authorship_tag": "ABX9TyPvcsoG2Se/WJXrMYr8aWCC",
      "include_colab_link": true
    },
    "kernelspec": {
      "name": "python3",
      "display_name": "Python 3"
    },
    "language_info": {
      "name": "python"
    }
  },
  "cells": [
    {
      "cell_type": "markdown",
      "metadata": {
        "id": "view-in-github",
        "colab_type": "text"
      },
      "source": [
        "<a href=\"https://colab.research.google.com/github/minhquang1206/THToanCaoCap/blob/main/Chuong2.ipynb\" target=\"_parent\"><img src=\"https://colab.research.google.com/assets/colab-badge.svg\" alt=\"Open In Colab\"/></a>"
      ]
    },
    {
      "cell_type": "markdown",
      "source": [
        "bai 1\n"
      ],
      "metadata": {
        "id": "eaHWTPsb7q8i"
      }
    },
    {
      "cell_type": "code",
      "source": [
        "chuoitinhtoan = \"a*b+c\"\n",
        "a=2\n",
        "b=5\n",
        "c=8\n",
        "eval(chuoitinhtoan)"
      ],
      "metadata": {
        "colab": {
          "base_uri": "https://localhost:8080/"
        },
        "id": "Ojkr8VBb7sb4",
        "outputId": "bba97ab3-1ecf-4acb-cf12-e9f34f48a375"
      },
      "execution_count": null,
      "outputs": [
        {
          "output_type": "execute_result",
          "data": {
            "text/plain": [
              "18"
            ]
          },
          "metadata": {},
          "execution_count": 2
        }
      ]
    },
    {
      "cell_type": "markdown",
      "source": [
        "bai 2\n"
      ],
      "metadata": {
        "id": "zUFmOPqC79i0"
      }
    },
    {
      "cell_type": "code",
      "source": [
        "from sympy import Symbol\n",
        "x = Symbol('x')\n",
        "y = Symbol('y')"
      ],
      "metadata": {
        "id": "DqTAapbQ7_Bn",
        "outputId": "81866275-2ff6-4c33-b14f-5cd66fe0b3d4",
        "colab": {
          "base_uri": "https://localhost:8080/",
          "height": 37
        }
      },
      "execution_count": 11,
      "outputs": [
        {
          "output_type": "execute_result",
          "data": {
            "text/latex": "$\\displaystyle 15$",
            "text/plain": [
              "15"
            ]
          },
          "metadata": {},
          "execution_count": 11
        }
      ]
    },
    {
      "cell_type": "code",
      "source": [
        "bieuthuc = x+y\n",
        "thaytheso = bieuthuc.subs({x:10,y:5})\n",
        "thaytheso"
      ],
      "metadata": {
        "id": "V3cgKyB59-Oz",
        "outputId": "d833dcb9-060c-44e3-ec92-1c0aec778064",
        "colab": {
          "base_uri": "https://localhost:8080/",
          "height": 37
        }
      },
      "execution_count": 20,
      "outputs": [
        {
          "output_type": "execute_result",
          "data": {
            "text/latex": "$\\displaystyle 15$",
            "text/plain": [
              "15"
            ]
          },
          "metadata": {},
          "execution_count": 20
        }
      ]
    },
    {
      "cell_type": "code",
      "source": [
        "u = Symbol('u')\n",
        "v =  Symbol('v')"
      ],
      "metadata": {
        "id": "cLsPfEvG9HRc"
      },
      "execution_count": 22,
      "outputs": []
    },
    {
      "cell_type": "code",
      "source": [
        "bieuthuc_theo_uv = bieuthuc.subs({x:u, y:v})\n",
        "bieuthuc_theo_uv"
      ],
      "metadata": {
        "id": "6IpqY228-Ajg",
        "outputId": "585d36ba-4d45-4998-c665-a71e877939b7",
        "colab": {
          "base_uri": "https://localhost:8080/",
          "height": 38
        }
      },
      "execution_count": 21,
      "outputs": [
        {
          "output_type": "execute_result",
          "data": {
            "text/latex": "$\\displaystyle u + v$",
            "text/plain": [
              "u + v"
            ]
          },
          "metadata": {},
          "execution_count": 21
        }
      ]
    },
    {
      "cell_type": "code",
      "source": [
        "thaythe_tinhtoan = bieuthuc.subs({x:2*u*v, y:u**2+v**2})"
      ],
      "metadata": {
        "id": "edkC7UEy9WZX"
      },
      "execution_count": 23,
      "outputs": []
    },
    {
      "cell_type": "code",
      "source": [
        "thaythe_tinhtoan"
      ],
      "metadata": {
        "id": "wueK8U8i-EPp",
        "outputId": "2b2648bf-375f-4e16-8c4c-eb139ee1e8af",
        "colab": {
          "base_uri": "https://localhost:8080/",
          "height": 38
        }
      },
      "execution_count": 28,
      "outputs": [
        {
          "output_type": "execute_result",
          "data": {
            "text/latex": "$\\displaystyle u^{2} + 2 u v + v^{2}$",
            "text/plain": [
              "u**2 + 2*u*v + v**2"
            ]
          },
          "metadata": {},
          "execution_count": 28
        }
      ]
    },
    {
      "cell_type": "code",
      "source": [
        "thaythe_tinhtoan.factor()"
      ],
      "metadata": {
        "id": "w8txmgTv-y9G",
        "outputId": "bdbb898d-93ae-41ef-cc66-3abc02703131",
        "colab": {
          "base_uri": "https://localhost:8080/",
          "height": 38
        }
      },
      "execution_count": 29,
      "outputs": [
        {
          "output_type": "execute_result",
          "data": {
            "text/latex": "$\\displaystyle \\left(u + v\\right)^{2}$",
            "text/plain": [
              "(u + v)**2"
            ]
          },
          "metadata": {},
          "execution_count": 29
        }
      ]
    },
    {
      "cell_type": "code",
      "source": [
        "import sympy\n",
        "x = Symbol('x')\n",
        "y = Symbol('y')\n",
        "bieuthuc = x + y\n",
        "bieuthuc2 = x**2 + y**2\n",
        "u = Symbol('u')\n",
        "v = Symbol('v')\n",
        "a = Symbol('a')\n",
        "from sympy import sin, cos"
      ],
      "metadata": {
        "id": "LE-5F9qv9oC8"
      },
      "execution_count": 25,
      "outputs": []
    },
    {
      "cell_type": "code",
      "source": [
        "bieuthuc_theo_uv = bieuthuc2.subs({x:a*sin(u),y:a*cos(u)})\n",
        "bieuthuc_theo_uv"
      ],
      "metadata": {
        "id": "JPteVUug-Mwv",
        "outputId": "bb4e4598-3a00-4b2e-cfe1-54bd0bcac0e5",
        "colab": {
          "base_uri": "https://localhost:8080/",
          "height": 38
        }
      },
      "execution_count": 26,
      "outputs": [
        {
          "output_type": "execute_result",
          "data": {
            "text/latex": "$\\displaystyle a^{2} \\sin^{2}{\\left(u \\right)} + a^{2} \\cos^{2}{\\left(u \\right)}$",
            "text/plain": [
              "a**2*sin(u)**2 + a**2*cos(u)**2"
            ]
          },
          "metadata": {},
          "execution_count": 26
        }
      ]
    },
    {
      "cell_type": "code",
      "source": [
        "bieuthuc_theo_uv.simplify()"
      ],
      "metadata": {
        "id": "_I5JhL3w-XIs",
        "outputId": "0dc9d1fe-0b7a-4188-f6ab-a3e627aa7b76",
        "colab": {
          "base_uri": "https://localhost:8080/",
          "height": 38
        }
      },
      "execution_count": 27,
      "outputs": [
        {
          "output_type": "execute_result",
          "data": {
            "text/latex": "$\\displaystyle a^{2}$",
            "text/plain": [
              "a**2"
            ]
          },
          "metadata": {},
          "execution_count": 27
        }
      ]
    },
    {
      "cell_type": "markdown",
      "source": [
        "bai 3\n"
      ],
      "metadata": {
        "id": "bQUTmtY6DrDy"
      }
    },
    {
      "cell_type": "code",
      "source": [
        "danhsach_so =  [10,15,20]"
      ],
      "metadata": {
        "id": "bfeW1b0LDsIq"
      },
      "execution_count": 30,
      "outputs": []
    },
    {
      "cell_type": "code",
      "source": [
        "danhsach_so[0]"
      ],
      "metadata": {
        "id": "bYXm--suD25C",
        "outputId": "769ce94e-ea68-4276-fc76-a8a465bc09a1",
        "colab": {
          "base_uri": "https://localhost:8080/"
        }
      },
      "execution_count": 31,
      "outputs": [
        {
          "output_type": "execute_result",
          "data": {
            "text/plain": [
              "10"
            ]
          },
          "metadata": {},
          "execution_count": 31
        }
      ]
    },
    {
      "cell_type": "code",
      "source": [
        "danhsach_so[1]"
      ],
      "metadata": {
        "id": "-eiQIb0-D6ye",
        "outputId": "5262f5eb-2833-4980-dc7c-88990487e172",
        "colab": {
          "base_uri": "https://localhost:8080/"
        }
      },
      "execution_count": 32,
      "outputs": [
        {
          "output_type": "execute_result",
          "data": {
            "text/plain": [
              "15"
            ]
          },
          "metadata": {},
          "execution_count": 32
        }
      ]
    },
    {
      "cell_type": "code",
      "source": [
        "danhsach_so[2]"
      ],
      "metadata": {
        "id": "LyjajYXnDsTd",
        "outputId": "b374456f-ba98-4323-b68e-4dad4efdc77a",
        "colab": {
          "base_uri": "https://localhost:8080/"
        }
      },
      "execution_count": 33,
      "outputs": [
        {
          "output_type": "execute_result",
          "data": {
            "text/plain": [
              "20"
            ]
          },
          "metadata": {},
          "execution_count": 33
        }
      ]
    },
    {
      "cell_type": "code",
      "source": [
        ""
      ],
      "metadata": {
        "id": "Y-Oa11hfEABG"
      },
      "execution_count": null,
      "outputs": []
    }
  ]
}
{
  "nbformat": 4,
  "nbformat_minor": 0,
  "metadata": {
    "colab": {
      "name": "Chuong1.ipynb",
      "provenance": [],
      "authorship_tag": "ABX9TyNsJkLujirunFyAXCz/KtKT",
      "include_colab_link": true
    },
    "kernelspec": {
      "name": "python3",
      "display_name": "Python 3"
    },
    "language_info": {
      "name": "python"
    }
  },
  "cells": [
    {
      "cell_type": "markdown",
      "metadata": {
        "id": "view-in-github",
        "colab_type": "text"
      },
      "source": [
        "<a href=\"https://colab.research.google.com/github/minhquang1206/THToanCaoCap/blob/main/Chuong1.ipynb\" target=\"_parent\"><img src=\"https://colab.research.google.com/assets/colab-badge.svg\" alt=\"Open In Colab\"/></a>"
      ]
    },
    {
      "cell_type": "markdown",
      "source": [
        "bai 1"
      ],
      "metadata": {
        "id": "igwZdIcrxozQ"
      }
    },
    {
      "cell_type": "code",
      "source": [
        "n = 10\n",
        "dayS = [1/2**k for k in range(0, n)]"
      ],
      "metadata": {
        "id": "fdLjinasAWsS"
      },
      "execution_count": null,
      "outputs": []
    },
    {
      "cell_type": "markdown",
      "source": [
        "bai 2"
      ],
      "metadata": {
        "id": "uvEwGLsmDQHH"
      }
    },
    {
      "cell_type": "code",
      "source": [
        "n = 1000\n",
        "x = [(2-0)*k/n for k in range(0, n+1)]\n",
        "s = 0\n",
        "for k in range(1, n+1):\n",
        "  s = s + x[k]**2*(x[k] - x[k-1])\n",
        "  print(s)"
      ],
      "metadata": {
        "id": "jdm6MZw4BXCG"
      },
      "execution_count": null,
      "outputs": []
    },
    {
      "cell_type": "markdown",
      "source": [
        "bai 3"
      ],
      "metadata": {
        "id": "cXW5qpDGDn2T"
      }
    },
    {
      "cell_type": "code",
      "source": [
        "from sympy import *\n",
        "Rational(1,2) + Rational(1,3)"
      ],
      "metadata": {
        "id": "d4eZBDCmDYmj",
        "outputId": "7dddc8c9-e8eb-4949-b069-1c99a36f6d7b",
        "colab": {
          "base_uri": "https://localhost:8080/",
          "height": 51
        }
      },
      "execution_count": null,
      "outputs": [
        {
          "output_type": "execute_result",
          "data": {
            "text/latex": "$\\displaystyle \\frac{5}{6}$",
            "text/plain": [
              "5/6"
            ]
          },
          "metadata": {},
          "execution_count": 27
        }
      ]
    },
    {
      "cell_type": "code",
      "source": [
        "Rational(1,2) + 1"
      ],
      "metadata": {
        "id": "ElygJ0VdDcVc",
        "outputId": "45a97b47-69a6-4b12-efb9-ede9b90fa0d6",
        "colab": {
          "base_uri": "https://localhost:8080/",
          "height": 51
        }
      },
      "execution_count": null,
      "outputs": [
        {
          "output_type": "execute_result",
          "data": {
            "text/latex": "$\\displaystyle \\frac{3}{2}$",
            "text/plain": [
              "3/2"
            ]
          },
          "metadata": {},
          "execution_count": 29
        }
      ]
    },
    {
      "cell_type": "code",
      "source": [
        "Rational(1,3)+1+1.5"
      ],
      "metadata": {
        "id": "QuyudY3ADfM0",
        "outputId": "24453780-9b6d-4d5b-f5a1-d7250f8405a2",
        "colab": {
          "base_uri": "https://localhost:8080/",
          "height": 37
        }
      },
      "execution_count": null,
      "outputs": [
        {
          "output_type": "execute_result",
          "data": {
            "text/latex": "$\\displaystyle 2.83333333333333$",
            "text/plain": [
              "2.83333333333333"
            ]
          },
          "metadata": {},
          "execution_count": 28
        }
      ]
    },
    {
      "cell_type": "markdown",
      "source": [
        "bai 4 \n"
      ],
      "metadata": {
        "id": "ebWkN3a5DmSh"
      }
    },
    {
      "cell_type": "code",
      "source": [
        "from sympy import  *\n",
        "x = symbols ('x')\n",
        "y = symbols ('y')"
      ],
      "metadata": {
        "id": "6R_D7U0EDiwJ"
      },
      "execution_count": null,
      "outputs": []
    },
    {
      "cell_type": "code",
      "source": [
        "2*x + 3"
      ],
      "metadata": {
        "id": "wNkFer_2Drwk",
        "outputId": "e6b3175a-8005-42ae-ad34-1b82d53ebde8",
        "colab": {
          "base_uri": "https://localhost:8080/",
          "height": 38
        }
      },
      "execution_count": null,
      "outputs": [
        {
          "output_type": "execute_result",
          "data": {
            "text/latex": "$\\displaystyle 2 x + 3$",
            "text/plain": [
              "2*x + 3"
            ]
          },
          "metadata": {},
          "execution_count": 30
        }
      ]
    },
    {
      "cell_type": "code",
      "source": [
        "x+2"
      ],
      "metadata": {
        "id": "hYcgOAiTD3n0",
        "outputId": "dfacadcd-351d-478f-a50e-18a36701efb5",
        "colab": {
          "base_uri": "https://localhost:8080/",
          "height": 38
        }
      },
      "execution_count": null,
      "outputs": [
        {
          "output_type": "execute_result",
          "data": {
            "text/latex": "$\\displaystyle x + 2$",
            "text/plain": [
              "x + 2"
            ]
          },
          "metadata": {},
          "execution_count": 32
        }
      ]
    },
    {
      "cell_type": "markdown",
      "source": [
        "bai 5a"
      ],
      "metadata": {
        "id": "eX-gAJgHD9Mx"
      }
    },
    {
      "cell_type": "code",
      "source": [
        "from sympy.solvers.solvers import denoms\n",
        "eq = (1/x)*1/(x-3)\n",
        "dd = denoms(eq)\n",
        "print(dd)"
      ],
      "metadata": {
        "id": "BPhLdrLuD5Fx",
        "outputId": "4b13fafb-a3e0-4cb0-ab6b-c567a200e202",
        "colab": {
          "base_uri": "https://localhost:8080/"
        }
      },
      "execution_count": null,
      "outputs": [
        {
          "output_type": "stream",
          "name": "stdout",
          "text": [
            "{x - 3, x}\n"
          ]
        }
      ]
    },
    {
      "cell_type": "markdown",
      "source": [
        "Bai 5 b"
      ],
      "metadata": {
        "id": "KE2QZtvBEBGM"
      }
    },
    {
      "cell_type": "code",
      "source": [
        "eq =(1+1/x)/(x-1)\n",
        "from sympy.solvers.solvers import denoms\n",
        "loai_tru = set()\n",
        "for d in denoms(eq):\n",
        "  for s in solve(d):\n",
        "    loai_tru.add(s)\n",
        "    print(loai_tru)"
      ],
      "metadata": {
        "id": "rbn32heAD7rj"
      },
      "execution_count": null,
      "outputs": []
    },
    {
      "cell_type": "markdown",
      "source": [
        "bai 6\n"
      ],
      "metadata": {
        "id": "CSZ0EmJ5EFiE"
      }
    },
    {
      "cell_type": "code",
      "source": [
        "from sympy.solvers.solvers import denoms\n",
        "x = symbols ('x',positive = True)\n",
        "if(x+3)>0:\n",
        "  print('Chac chan x+3 dương!')\n",
        "else:\n",
        "  print('x+3 chua chac la so duong!')"
      ],
      "metadata": {
        "id": "3u7rm98bEEgN"
      },
      "execution_count": null,
      "outputs": []
    },
    {
      "cell_type": "markdown",
      "source": [
        "bai 7"
      ],
      "metadata": {
        "id": "ZVUKwLQ1EIZ3"
      }
    },
    {
      "cell_type": "code",
      "source": [
        "import sympy\n",
        "sympy.sin(math.pi/2)"
      ],
      "metadata": {
        "id": "7l6NaMJHELJO"
      },
      "execution_count": null,
      "outputs": []
    },
    {
      "cell_type": "markdown",
      "source": [
        "bai 8"
      ],
      "metadata": {
        "id": "xZO4GH5gEN-Z"
      }
    },
    {
      "cell_type": "code",
      "source": [
        "from sympy import sin, solve,symbols\n",
        "u = symbols(\"u\")\n",
        "t = symbols(\"t\")\n",
        "g = symbols(\"g\")\n",
        "theta = symbols('theta')\n",
        "solve(u*sin(theta)-g*t,t)"
      ],
      "metadata": {
        "id": "iY9J1JpLEOuc"
      },
      "execution_count": null,
      "outputs": []
    },
    {
      "cell_type": "markdown",
      "source": [
        "bai 9"
      ],
      "metadata": {
        "id": "afw78adNEP3X"
      }
    },
    {
      "cell_type": "code",
      "source": [
        "from sympy import Limit, symbols, S\n",
        "x = symbols('x')\n",
        "Limit(1/x,x , S.Infinity)\n",
        "gioihan =limit(1/x, x, S.Infinity)\n",
        "gioihan.doit()"
      ],
      "metadata": {
        "id": "uZxtVrkmERzL"
      },
      "execution_count": null,
      "outputs": []
    },
    {
      "cell_type": "markdown",
      "source": [
        "bai 10"
      ],
      "metadata": {
        "id": "RV3aJ3T4EUIZ"
      }
    },
    {
      "cell_type": "code",
      "source": [
        "from sympy import Limit\n",
        "limit(1/x, x, 0,dir='-').doit()"
      ],
      "metadata": {
        "id": "Dh7FkKGpEVJ6"
      },
      "execution_count": null,
      "outputs": []
    },
    {
      "cell_type": "code",
      "source": [
        "from sympy import Limit,Symbol\n",
        "x = Symbol('x')\n",
        "Limit(1/x, x ,0,dir='-').doit()"
      ],
      "metadata": {
        "id": "pqkaREPPyaMk",
        "outputId": "66ba56ec-2063-4542-eac8-b55f3276b2e6",
        "colab": {
          "base_uri": "https://localhost:8080/",
          "height": 37
        }
      },
      "execution_count": null,
      "outputs": [
        {
          "output_type": "execute_result",
          "data": {
            "text/latex": "$\\displaystyle -\\infty$",
            "text/plain": [
              "-oo"
            ]
          },
          "metadata": {},
          "execution_count": 23
        }
      ]
    },
    {
      "cell_type": "markdown",
      "source": [
        ""
      ],
      "metadata": {
        "id": "jhHEZtzKzdGm"
      }
    },
    {
      "cell_type": "code",
      "source": [
        "from sympy import Limit, Symbol\n",
        "x = Symbol('x')\n",
        "Limit(1/x,x,0,dir='+').doit()"
      ],
      "metadata": {
        "id": "uhSWa-q8zdqT",
        "outputId": "58df726c-2e9e-4935-e534-5f4034c586b8",
        "colab": {
          "base_uri": "https://localhost:8080/",
          "height": 37
        }
      },
      "execution_count": null,
      "outputs": [
        {
          "output_type": "execute_result",
          "data": {
            "text/latex": "$\\displaystyle \\infty$",
            "text/plain": [
              "oo"
            ]
          },
          "metadata": {},
          "execution_count": 22
        }
      ]
    },
    {
      "cell_type": "code",
      "source": [
        "from sympy import Symbol,Limit,S\n",
        "p = Symbol('p',positive=True)\n",
        "r = Symbol('r',positive=True)\n",
        "t = Symbol('t',positive=True)\n",
        "Limit(p*(1+r/n)**(n*t), n, S.Infinity).doit()"
      ],
      "metadata": {
        "id": "xnzdBy38BF4_"
      },
      "execution_count": null,
      "outputs": []
    },
    {
      "cell_type": "code",
      "source": [
        "from sympy import symbols,Limit\n",
        "t = Symbol('t')\n",
        "St = 5*t**2 + 2*t + 8\n",
        "\n",
        "t1 = Symbol('t1')\n",
        "delta_t = symbols('delta_t')\n",
        "\n",
        "St1 = St.subs({t: t1})\n",
        "St1_delta = St.subs({t :t1 + delta_t})"
      ],
      "metadata": {
        "id": "SIC56462BHfe"
      },
      "execution_count": null,
      "outputs": []
    }
  ]
}